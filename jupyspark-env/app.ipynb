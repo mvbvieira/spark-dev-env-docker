{
 "cells": [
  {
   "cell_type": "code",
   "execution_count": null,
   "id": "53d59e3d-c9f6-4d9e-9770-56b91128211d",
   "metadata": {},
   "outputs": [],
   "source": [
    "from pyspark.sql import SparkSession"
   ]
  },
  {
   "cell_type": "code",
   "execution_count": null,
   "id": "db10a31f-61c7-4c48-a60a-e937eb98fbf5",
   "metadata": {},
   "outputs": [],
   "source": [
    "print(\"======================= SparkSession Starting ========================\")\n",
    "spark = SparkSession.builder.appName(\"job-example\").getOrCreate()\n",
    "\n",
    "print(\"=========================== Set Spark Conf ===========================\")\n",
    "#spark.conf.set('key', 'value')"
   ]
  },
  {
   "cell_type": "code",
   "execution_count": null,
   "id": "c2c35671-bc9e-4e57-8ba7-aa95674d488d",
   "metadata": {},
   "outputs": [],
   "source": [
    "print(\"============================== Read data =============================\")\n",
    "df = spark.read.format(\"com.crealytics.spark.excel\").option(\"header\", \"true\").load(\"airtravel.xlsx\")\n",
    "df.printSchema()\n",
    "df.show()"
   ]
  },
  {
   "cell_type": "code",
   "execution_count": null,
   "id": "0a2d6a4b-4624-4e75-81f7-ace67eeab713",
   "metadata": {},
   "outputs": [],
   "source": [
    "print(\"============================= Write data =============================\")\n",
    "df.write.mode(\"overwrite\").format(\"delta\").save(\"delta/airtravel\")"
   ]
  },
  {
   "cell_type": "code",
   "execution_count": null,
   "id": "3e0f956d-5052-4a98-b8df-68c23cd715db",
   "metadata": {},
   "outputs": [],
   "source": [
    "print(\"============================== Finished ==============================\")\n",
    "spark.stop()"
   ]
  }
 ],
 "metadata": {
  "kernelspec": {
   "display_name": "Python 3 (ipykernel)",
   "language": "python",
   "name": "python3"
  },
  "language_info": {
   "codemirror_mode": {
    "name": "ipython",
    "version": 3
   },
   "file_extension": ".py",
   "mimetype": "text/x-python",
   "name": "python",
   "nbconvert_exporter": "python",
   "pygments_lexer": "ipython3",
   "version": "3.8.10"
  }
 },
 "nbformat": 4,
 "nbformat_minor": 5
}
