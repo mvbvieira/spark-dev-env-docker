{
 "cells": [
  {
   "cell_type": "code",
   "execution_count": 3,
   "id": "53d59e3d-c9f6-4d9e-9770-56b91128211d",
   "metadata": {},
   "outputs": [],
   "source": [
    "try:\n",
    "    __file__\n",
    "except:\n",
    "    import findspark\n",
    "    findspark.init()\n",
    "\n",
    "from pyspark.sql import SparkSession\n",
    "\n",
    "spark = SparkSession \\\n",
    "        .builder \\\n",
    "        .appName(\"Sample\") \\\n",
    "        .getOrCreate()"
   ]
  },
  {
   "cell_type": "code",
   "execution_count": 4,
   "id": "4b683193-6088-46ee-af5f-491c68bead71",
   "metadata": {},
   "outputs": [],
   "source": [
    "df = spark.read.format(\"com.crealytics.spark.excel\").option(\"header\", \"true\").load(\"airtravel.xlsx\")"
   ]
  },
  {
   "cell_type": "code",
   "execution_count": 5,
   "id": "db10a31f-61c7-4c48-a60a-e937eb98fbf5",
   "metadata": {},
   "outputs": [
    {
     "name": "stdout",
     "output_type": "stream",
     "text": [
      "root\n",
      " |-- Month: string (nullable = true)\n",
      " |-- year_1958: string (nullable = true)\n",
      " |-- year_1959: string (nullable = true)\n",
      " |-- year_1960: string (nullable = true)\n",
      "\n",
      "+-----+---------+---------+---------+\n",
      "|Month|year_1958|year_1959|year_1960|\n",
      "+-----+---------+---------+---------+\n",
      "|  JAN|      340|      360|      417|\n",
      "|  FEB|      318|      342|      391|\n",
      "|  MAR|      362|      406|      419|\n",
      "|  APR|      348|      396|      461|\n",
      "|  MAY|      363|      420|      472|\n",
      "|  JUN|      435|      472|      535|\n",
      "|  JUL|      491|      548|      622|\n",
      "|  AUG|      505|      559|      606|\n",
      "|  SEP|      404|      463|      508|\n",
      "|  OCT|      359|      407|      461|\n",
      "|  NOV|      310|      362|      390|\n",
      "|  DEC|      337|      405|      432|\n",
      "+-----+---------+---------+---------+\n",
      "\n"
     ]
    }
   ],
   "source": [
    "df.printSchema()\n",
    "\n",
    "df.show()"
   ]
  },
  {
   "cell_type": "code",
   "execution_count": 6,
   "id": "3e0f956d-5052-4a98-b8df-68c23cd715db",
   "metadata": {},
   "outputs": [],
   "source": [
    "spark.stop()"
   ]
  }
 ],
 "metadata": {
  "kernelspec": {
   "display_name": "Python 3 (ipykernel)",
   "language": "python",
   "name": "python3"
  },
  "language_info": {
   "codemirror_mode": {
    "name": "ipython",
    "version": 3
   },
   "file_extension": ".py",
   "mimetype": "text/x-python",
   "name": "python",
   "nbconvert_exporter": "python",
   "pygments_lexer": "ipython3",
   "version": "3.7.3"
  }
 },
 "nbformat": 4,
 "nbformat_minor": 5
}
