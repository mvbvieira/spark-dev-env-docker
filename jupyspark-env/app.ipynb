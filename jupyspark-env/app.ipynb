{
 "cells": [
  {
   "cell_type": "code",
   "execution_count": 1,
   "id": "53d59e3d-c9f6-4d9e-9770-56b91128211d",
   "metadata": {},
   "outputs": [
    {
     "name": "stderr",
     "output_type": "stream",
     "text": [
      "WARNING: An illegal reflective access operation has occurred\n",
      "WARNING: Illegal reflective access by org.apache.spark.unsafe.Platform (file:/opt/spark/jars/spark-unsafe_2.12-3.1.1.jar) to constructor java.nio.DirectByteBuffer(long,int)\n",
      "WARNING: Please consider reporting this to the maintainers of org.apache.spark.unsafe.Platform\n",
      "WARNING: Use --illegal-access=warn to enable warnings of further illegal reflective access operations\n",
      "WARNING: All illegal access operations will be denied in a future release\n",
      "21/10/10 20:32:57 WARN NativeCodeLoader: Unable to load native-hadoop library for your platform... using builtin-java classes where applicable\n",
      "Using Spark's default log4j profile: org/apache/spark/log4j-defaults.properties\n",
      "Setting default log level to \"WARN\".\n",
      "To adjust logging level use sc.setLogLevel(newLevel). For SparkR, use setLogLevel(newLevel).\n"
     ]
    }
   ],
   "source": [
    "from pyspark.sql import SparkSession\n",
    "\n",
    "spark = SparkSession \\\n",
    "        .builder \\\n",
    "        .appName(\"Lake\") \\\n",
    "        .getOrCreate()\n",
    "\n",
    "dl_name = 'deepdivelake'\n",
    "app_id = '0eecb74c-a8df-4a3e-9343-40bff4c9db9f'\n",
    "app_secret = '2K2N.qdMtUtNqDVWYSN4j7-MTgxEYOGQk.'\n",
    "tenant_id = '93f33571-550f-43cf-b09f-cd331338d086'\n",
    "\n",
    "spark.conf.set(\"fs.azure.account.auth.type.\" + dl_name + \".dfs.core.windows.net\", \"OAuth\") \n",
    "spark.conf.set(\"fs.azure.account.oauth.provider.type.\" + dl_name + \".dfs.core.windows.net\", \"org.apache.hadoop.fs.azurebfs.oauth2.ClientCredsTokenProvider\")\n",
    "spark.conf.set(\"fs.azure.account.oauth2.client.id.\" + dl_name + \".dfs.core.windows.net\", app_id) \n",
    "spark.conf.set(\"fs.azure.account.oauth2.client.secret.\" + dl_name + \".dfs.core.windows.net\", app_secret)\n",
    "spark.conf.set(\"fs.azure.account.oauth2.client.endpoint.\" + dl_name + \".dfs.core.windows.net\", \"https://login.microsoftonline.com/\"+ tenant_id +\"/oauth2/token\")"
   ]
  },
  {
   "cell_type": "code",
   "execution_count": 2,
   "id": "4b683193-6088-46ee-af5f-491c68bead71",
   "metadata": {},
   "outputs": [
    {
     "name": "stderr",
     "output_type": "stream",
     "text": [
      "21/10/10 20:33:04 WARN SSLSocketFactoryEx: Failed to load OpenSSL. Falling back to the JSSE default.\n"
     ]
    }
   ],
   "source": [
    "lake_path = \"abfss://data-lakehouse@deepdivelake.dfs.core.windows.net/\"\n",
    "\n",
    "df = spark.read.format(\"csv\").option(\"header\", \"true\").load(lake_path+\"us-500.csv\")"
   ]
  },
  {
   "cell_type": "code",
   "execution_count": 3,
   "id": "db10a31f-61c7-4c48-a60a-e937eb98fbf5",
   "metadata": {},
   "outputs": [
    {
     "name": "stdout",
     "output_type": "stream",
     "text": [
      "root\n",
      " |-- first_name: string (nullable = true)\n",
      " |-- last_name: string (nullable = true)\n",
      " |-- company_name: string (nullable = true)\n",
      " |-- address: string (nullable = true)\n",
      " |-- city: string (nullable = true)\n",
      " |-- county: string (nullable = true)\n",
      " |-- state: string (nullable = true)\n",
      " |-- zip: string (nullable = true)\n",
      " |-- phone1: string (nullable = true)\n",
      " |-- phone2: string (nullable = true)\n",
      " |-- email: string (nullable = true)\n",
      " |-- web: string (nullable = true)\n",
      "\n",
      "+----------+---------+--------------------+--------------------+-------------+--------------+-----+-----+------------+------------+--------------------+--------------------+\n",
      "|first_name|last_name|        company_name|             address|         city|        county|state|  zip|      phone1|      phone2|               email|                 web|\n",
      "+----------+---------+--------------------+--------------------+-------------+--------------+-----+-----+------------+------------+--------------------+--------------------+\n",
      "|     James|     Butt|   Benton, John B Jr|  6649 N Blue Gum St|  New Orleans|       Orleans|   LA|70116|504-621-8927|504-845-1427|     jbutt@gmail.com|http://www.benton...|\n",
      "| Josephine|  Darakjy|Chanay, Jeffrey A...| 4 B Blue Ridge Blvd|     Brighton|    Livingston|   MI|48116|810-292-9388|810-374-9840|josephine_darakjy...|http://www.chanay...|\n",
      "|       Art|   Venere| Chemel, James L Cpa|8 W Cerritos Ave #54|   Bridgeport|    Gloucester|   NJ|08014|856-636-8749|856-264-4130|      art@venere.org|http://www.chemel...|\n",
      "|     Lenna| Paprocki|Feltz Printing Se...|         639 Main St|    Anchorage|     Anchorage|   AK|99501|907-385-4412|907-921-2010|lpaprocki@hotmail...|http://www.feltzp...|\n",
      "|   Donette|   Foller| Printing Dimensions|        34 Center St|     Hamilton|        Butler|   OH|45011|513-570-1893|513-549-4561|donette.foller@co...|http://www.printi...|\n",
      "|    Simona|  Morasca| Chapman, Ross E Esq|        3 Mcauley Dr|      Ashland|       Ashland|   OH|44805|419-503-2484|419-800-6759|  simona@morasca.com|http://www.chapma...|\n",
      "|    Mitsue|  Tollner|  Morlong Associates|           7 Eads St|      Chicago|          Cook|   IL|60632|773-573-6914|773-924-8565|mitsue_tollner@ya...|http://www.morlon...|\n",
      "|     Leota| Dilliard|    Commercial Press|    7 W Jackson Blvd|     San Jose|   Santa Clara|   CA|95111|408-752-3500|408-813-1105|   leota@hotmail.com|http://www.commer...|\n",
      "|      Sage|   Wieser|Truhlar And Truhl...|    5 Boston Ave #88|  Sioux Falls|     Minnehaha|   SD|57105|605-414-2147|605-794-4895| sage_wieser@cox.net|http://www.truhla...|\n",
      "|      Kris|  Marrier|King, Christopher...|228 Runamuck Pl #...|    Baltimore|Baltimore City|   MD|21224|410-655-8723|410-804-4694|      kris@gmail.com|http://www.kingch...|\n",
      "|     Minna|   Amigon|   Dorl, James J Esq|    2371 Jerrold Ave|   Kulpsville|    Montgomery|   PA|19443|215-874-1229|215-422-8694|minna_amigon@yaho...|http://www.dorlja...|\n",
      "|      Abel|  Maclead| Rangoni Of Florence|  37275 St  Rt 17m M|Middle Island|       Suffolk|   NY|11953|631-335-3414|631-677-3675|  amaclead@gmail.com|http://www.rangon...|\n",
      "|     Kiley|Caldarera|         Feiner Bros|    25 E 75th St #69|  Los Angeles|   Los Angeles|   CA|90034|310-498-5651|310-254-3084|kiley.caldarera@a...|http://www.feiner...|\n",
      "|  Graciela|     Ruta|Buckley Miller & ...|98 Connecticut Av...|Chagrin Falls|        Geauga|   OH|44023|440-780-8425|440-579-7763|       gruta@cox.net|http://www.buckle...|\n",
      "|     Cammy|  Albares|Rousseaux, Michae...|    56 E Morehead St|       Laredo|          Webb|   TX|78045|956-537-6195|956-841-7216|  calbares@gmail.com|http://www.rousse...|\n",
      "|    Mattie| Poquette|Century Communica...| 73 State Road 434 E|      Phoenix|      Maricopa|   AZ|85013|602-277-4385|602-953-6360|      mattie@aol.com|http://www.centur...|\n",
      "|   Meaghan|   Garufi|  Bolton, Wilbur Esq| 69734 E Carrillo St| Mc Minnville|        Warren|   TN|37110|931-313-9635|931-235-7959| meaghan@hotmail.com|http://www.bolton...|\n",
      "|    Gladys|      Rim|T M Byxbee Compan...|322 New Horizon Blvd|    Milwaukee|     Milwaukee|   WI|53207|414-661-9598|414-377-2880|  gladys.rim@rim.org|http://www.tmbyxb...|\n",
      "|      Yuki|  Whobrey|Farmers Insurance...|    1 State Route 27|       Taylor|         Wayne|   MI|48180|313-288-7937|313-341-4470|yuki_whobrey@aol.com|http://www.farmer...|\n",
      "|  Fletcher|    Flosi|Post Box Services...| 394 Manchester Blvd|     Rockford|     Winnebago|   IL|61109|815-828-2147|815-426-5657|fletcher.flosi@ya...|http://www.postbo...|\n",
      "+----------+---------+--------------------+--------------------+-------------+--------------+-----+-----+------------+------------+--------------------+--------------------+\n",
      "only showing top 20 rows\n",
      "\n"
     ]
    }
   ],
   "source": [
    "df.printSchema()\n",
    "\n",
    "df.show()"
   ]
  },
  {
   "cell_type": "code",
   "execution_count": 4,
   "id": "c2c35671-bc9e-4e57-8ba7-aa95674d488d",
   "metadata": {},
   "outputs": [
    {
     "name": "stderr",
     "output_type": "stream",
     "text": [
      "                                                                                \r"
     ]
    }
   ],
   "source": [
    "df.write.mode(\"overwrite\").format(\"delta\").save(\"delta/bronze\")"
   ]
  },
  {
   "cell_type": "code",
   "execution_count": 5,
   "id": "0a2d6a4b-4624-4e75-81f7-ace67eeab713",
   "metadata": {},
   "outputs": [
    {
     "name": "stderr",
     "output_type": "stream",
     "text": [
      "                                                                                \r"
     ]
    }
   ],
   "source": [
    "df.write.mode(\"overwrite\").format(\"delta\").save(lake_path+\"delta/bronze\")"
   ]
  },
  {
   "cell_type": "code",
   "execution_count": 6,
   "id": "3e0f956d-5052-4a98-b8df-68c23cd715db",
   "metadata": {},
   "outputs": [],
   "source": [
    "spark.stop()"
   ]
  }
 ],
 "metadata": {
  "kernelspec": {
   "display_name": "Python 3 (ipykernel)",
   "language": "python",
   "name": "python3"
  },
  "language_info": {
   "codemirror_mode": {
    "name": "ipython",
    "version": 3
   },
   "file_extension": ".py",
   "mimetype": "text/x-python",
   "name": "python",
   "nbconvert_exporter": "python",
   "pygments_lexer": "ipython3",
   "version": "3.8.10"
  }
 },
 "nbformat": 4,
 "nbformat_minor": 5
}
